{
  "cells": [
    {
      "cell_type": "markdown",
      "metadata": {
        "id": "view-in-github",
        "colab_type": "text"
      },
      "source": [
        "<a href=\"https://colab.research.google.com/github/ssssarett/similar-book-reviews/blob/main/Copia_di_PROGETTO.ipynb\" target=\"_parent\"><img src=\"https://colab.research.google.com/assets/colab-badge.svg\" alt=\"Open In Colab\"/></a>"
      ]
    },
    {
      "cell_type": "markdown",
      "metadata": {
        "id": "u_GWOSEA0nnG"
      },
      "source": [
        "# **Project 1: Finding similar items**\n",
        "The task is to implement a detector of pairs of similar book reviews.\n",
        "You can choose how to encode reviews and how to measure their similarity, although a simple choice would be that of processing the review/text column of the Books_rating.csv file, using\n",
        "the Jaccard similarity."
      ]
    },
    {
      "cell_type": "markdown",
      "metadata": {
        "id": "TZC7T7If0tIM"
      },
      "source": [
        "# 0. SETUP & LIBRARIES"
      ]
    },
    {
      "cell_type": "code",
      "execution_count": null,
      "metadata": {
        "colab": {
          "base_uri": "https://localhost:8080/"
        },
        "collapsed": true,
        "id": "AOGBwrzNUnBq",
        "outputId": "e76c78a6-2dda-4172-cc3c-6d9d110a9998"
      },
      "outputs": [
        {
          "name": "stdout",
          "output_type": "stream",
          "text": [
            "W: Skipping acquire of configured file 'main/source/Sources' as repository 'https://r2u.stat.illinois.edu/ubuntu jammy InRelease' does not seem to provide it (sources.list entry misspelt?)\n"
          ]
        }
      ],
      "source": [
        "!apt-get update -qq\n",
        "!apt-get install openjdk-8-jdk-headless -qq\n",
        "!pip install pyspark --quiet\n",
        "!pip install -U sentence-transformers"
      ]
    },
    {
      "cell_type": "code",
      "execution_count": 76,
      "metadata": {
        "id": "erfamS2iUQPH"
      },
      "outputs": [],
      "source": [
        "# LIBRARIES\n",
        "from pyspark.sql import SparkSession\n",
        "from pyspark.sql.functions import udf, col, size, length, rand, monotonically_increasing_id\n",
        "import pyspark.sql.functions as F\n",
        "from pyspark.sql.types import ArrayType, StringType\n",
        "from pyspark.ml.feature import HashingTF, MinHashLSH, Tokenizer, StopWordsRemover, CountVectorizer, IDF\n",
        "from pyspark.ml.linalg import Vectors\n",
        "from pyspark.ml import Pipeline\n",
        "import os, re, shutil, glob\n",
        "import pandas as pd\n",
        "from google.colab import files"
      ]
    },
    {
      "cell_type": "code",
      "execution_count": 118,
      "metadata": {
        "id": "W_pBUPWMtm-Y"
      },
      "outputs": [],
      "source": [
        "# PARAMETERS\n",
        "SUBSAMPLE_SIZE = 1000\n",
        "sim_threshold = 0.2\n",
        "join_limit = 10000\n",
        "k = 5\n",
        "numFeatures = 1 << 18\n",
        "numHashTables = 5\n",
        "duplicate_threshold = 0.75\n",
        "semantic_threshold = 0.3\n",
        "\n",
        "USE_FULL_DATASET = False\n",
        "FOCUS_BOOK_TITLE = None\n",
        "MIN_REVIEW_LENGTH = 20\n",
        "MIN_RATING = None\n"
      ]
    },
    {
      "cell_type": "markdown",
      "metadata": {
        "id": "1yqpxggU07Gp"
      },
      "source": [
        "# 1. KAGGLE IMPORT\n",
        "🚨 in the final version of the project the \"xxxxxx\" strings should be re-introduced in order to not share sensitive\n",
        "information."
      ]
    },
    {
      "cell_type": "code",
      "execution_count": null,
      "metadata": {
        "colab": {
          "base_uri": "https://localhost:8080/"
        },
        "id": "U9tTQiZxVHwi",
        "outputId": "afbb5a55-572f-4a49-cd2d-3f502352f966"
      },
      "outputs": [
        {
          "name": "stdout",
          "output_type": "stream",
          "text": [
            "Dataset URL: https://www.kaggle.com/datasets/mohamedbakhet/amazon-books-reviews\n",
            "License(s): CC0-1.0\n",
            "Downloading amazon-books-reviews.zip to /content\n",
            " 99% 1.05G/1.06G [00:07<00:00, 96.9MB/s]\n",
            "100% 1.06G/1.06G [00:07<00:00, 144MB/s] \n"
          ]
        }
      ],
      "source": [
        "os.environ['KAGGLE_USERNAME'] = \"ssarett\" # \"xxxxxx\"\n",
        "os.environ['KAGGLE_KEY'] = \"f255453d448627d02504a9a8af388057\" # \"xxxxxx\"\n",
        "\n",
        "# dataset Amazon Books Reviews\n",
        "!kaggle datasets download -d mohamedbakhet/amazon-books-reviews"
      ]
    },
    {
      "cell_type": "code",
      "execution_count": null,
      "metadata": {
        "colab": {
          "base_uri": "https://localhost:8080/"
        },
        "collapsed": true,
        "id": "y8y-dM7KVNlW",
        "outputId": "ba4a41d8-05b9-410a-d990-d8cc8df051b3"
      },
      "outputs": [
        {
          "name": "stdout",
          "output_type": "stream",
          "text": [
            "Archive:  amazon-books-reviews.zip\n",
            "  inflating: ./data/Books_rating.csv  \n",
            "  inflating: ./data/books_data.csv   \n"
          ]
        }
      ],
      "source": [
        "# unzip files in directory \"data\"\n",
        "!unzip amazon-books-reviews.zip -d ./data"
      ]
    },
    {
      "cell_type": "code",
      "execution_count": 97,
      "metadata": {
        "colab": {
          "base_uri": "https://localhost:8080/"
        },
        "collapsed": true,
        "id": "wzkfww3YVZOu",
        "outputId": "4eb44c98-de48-4190-aa9c-a33049b97d49"
      },
      "outputs": [
        {
          "output_type": "stream",
          "name": "stdout",
          "text": [
            "total 2.9G\n",
            "-rw-r--r-- 1 root root 173M Sep 13  2022 books_data.csv\n",
            "-rw-r--r-- 1 root root 2.7G Sep 13  2022 Books_rating.csv\n"
          ]
        }
      ],
      "source": [
        "# check\n",
        "!ls -lh ./data"
      ]
    },
    {
      "cell_type": "markdown",
      "metadata": {
        "id": "gzjhnhhW1BoI"
      },
      "source": [
        "# 2. SPARKSESSION"
      ]
    },
    {
      "cell_type": "code",
      "execution_count": 98,
      "metadata": {
        "id": "73uaGUf1VbYH"
      },
      "outputs": [],
      "source": [
        "spark = SparkSession.builder \\\n",
        "    .appName(\"SimilarReviews\") \\\n",
        "    .config(\"spark.driver.memory\", \"4g\") \\\n",
        "    .getOrCreate()"
      ]
    },
    {
      "cell_type": "code",
      "execution_count": 94,
      "metadata": {
        "id": "NjPwq5msDFKl"
      },
      "outputs": [],
      "source": [
        "spark.catalog.clearCache()"
      ]
    },
    {
      "cell_type": "markdown",
      "metadata": {
        "id": "Qq7yWnbP1OgF"
      },
      "source": [
        "# 3. READ DATA & BASIC FILTERING"
      ]
    },
    {
      "cell_type": "code",
      "execution_count": 99,
      "metadata": {
        "id": "SlkX9Nsauqvw"
      },
      "outputs": [],
      "source": [
        "df = spark.read.csv(\"data/Books_rating.csv\", header=True, inferSchema=True) \\\n",
        "         .withColumnRenamed(\"review/text\", \"review_text\") \\\n",
        "         .withColumnRenamed(\"review/score\", \"rating\")"
      ]
    },
    {
      "cell_type": "code",
      "execution_count": 100,
      "metadata": {
        "id": "SPMDCnnSzUci"
      },
      "outputs": [],
      "source": [
        "df = df.filter(col(\"review_text\").isNotNull()) \\\n",
        "       .filter(length(\"review_text\") > MIN_REVIEW_LENGTH)\n",
        "if MIN_RATING:\n",
        "    df = df.filter(col(\"rating\") >= MIN_RATING)\n",
        "if FOCUS_BOOK_TITLE:\n",
        "    df = df.filter(col(\"book_title\").like(f\"%{FOCUS_BOOK_TITLE}%\"))\n",
        "if not USE_FULL_DATASET:\n",
        "    df = df.orderBy(rand(seed=42)).limit(SUBSAMPLE_SIZE)"
      ]
    },
    {
      "cell_type": "code",
      "execution_count": null,
      "metadata": {
        "colab": {
          "base_uri": "https://localhost:8080/"
        },
        "id": "TR_kSvtM3wMw",
        "outputId": "bce1a8fa-d92c-4bea-e1ba-567d8307e1fe"
      },
      "outputs": [
        {
          "data": {
            "text/plain": [
              "Row(bookId='1891661426', Title='How to Win Lotteries, Sweepstakes, and Contests in the 21st Century', Price='10.91', User_id='A2N5NEEIK9GUGJ', profileName='Venda L. Miller', review/helpfulness='1/1', rating='2.0', review/time='1302048000', review/summary='How to Win Lotteries, Sweepstakes and Contest', review_text=\"I was looking for information that isn't common knowledge or common sense. Everything in this book most of the population currently know. He did not tell me anything that I didn't already knew. Great and catchy Front cover.\")"
            ]
          },
          "execution_count": 12,
          "metadata": {},
          "output_type": "execute_result"
        }
      ],
      "source": [
        "df.head()"
      ]
    },
    {
      "cell_type": "code",
      "execution_count": 82,
      "metadata": {
        "colab": {
          "base_uri": "https://localhost:8080/"
        },
        "id": "AG5YUkIu_Lg1",
        "outputId": "01507311-cc66-42f4-c267-17a0d0f0bf90"
      },
      "outputs": [
        {
          "output_type": "execute_result",
          "data": {
            "text/plain": [
              "10000"
            ]
          },
          "metadata": {},
          "execution_count": 82
        }
      ],
      "source": [
        "df.count()"
      ]
    },
    {
      "cell_type": "markdown",
      "metadata": {
        "id": "NgONZUWV1fy6"
      },
      "source": [
        "# 4. PREPROCESSING"
      ]
    },
    {
      "cell_type": "code",
      "execution_count": 101,
      "metadata": {
        "id": "WDQCMUvKV0lX"
      },
      "outputs": [],
      "source": [
        "# clean text: punctuation, lowercase, normalize whitespace\n",
        "def clean_text(text):\n",
        "    if text is None:\n",
        "        return \"\"\n",
        "    t = text.lower()\n",
        "    t = re.sub(r\"[^\\w\\s]\", \"\", t)\n",
        "    return re.sub(r\"\\s+\", \" \", t).strip()\n",
        "\n",
        "clean_udf = udf(clean_text, StringType())\n",
        "df = df.withColumn(\"cleaned\", clean_udf(col(\"review_text\")))"
      ]
    },
    {
      "cell_type": "markdown",
      "metadata": {
        "id": "cwrSD_RGJIO6"
      },
      "source": [
        "# 5. SHINGLING"
      ]
    },
    {
      "cell_type": "code",
      "execution_count": 102,
      "metadata": {
        "id": "9xvS6DvZV9B_"
      },
      "outputs": [],
      "source": [
        "def char_shingles(text, k=k):\n",
        "    if text is None or len(text) < k:\n",
        "        return []\n",
        "    return list({ text[i:i+k] for i in range(len(text)-k+1) })\n",
        "shingle_udf = udf(char_shingles, ArrayType(StringType()))\n",
        "df = df.withColumn(\"shingles\", shingle_udf(col(\"cleaned\"))) \\\n",
        "       .withColumn(\"id\", monotonically_increasing_id()) \\\n",
        "       .filter(size(col(\"shingles\")) > 0)"
      ]
    },
    {
      "cell_type": "markdown",
      "metadata": {
        "id": "nrycN9znJoep"
      },
      "source": [
        "## FEATURE VECTORIZATION: HashingTF"
      ]
    },
    {
      "cell_type": "code",
      "execution_count": 103,
      "metadata": {
        "colab": {
          "base_uri": "https://localhost:8080/"
        },
        "id": "eDB_z2EFJwEk",
        "outputId": "5dc6647a-abfd-48bb-f8c1-ef0ddc471623"
      },
      "outputs": [
        {
          "output_type": "execute_result",
          "data": {
            "text/plain": [
              "DataFrame[id: bigint, Title: string, Price: string, User_id: string, profileName: string, review/helpfulness: string, rating: string, review/time: string, review/summary: string, review_text: string, cleaned: string, shingles: array<string>, features: vector]"
            ]
          },
          "metadata": {},
          "execution_count": 103
        }
      ],
      "source": [
        "htf = HashingTF(inputCol=\"shingles\", outputCol=\"features\", numFeatures=numFeatures)\n",
        "df = htf.transform(df)\n",
        "df.cache()"
      ]
    },
    {
      "cell_type": "markdown",
      "metadata": {
        "id": "0CQT3cNL4oES"
      },
      "source": [
        "# 6. LSH & JACCARD"
      ]
    },
    {
      "cell_type": "code",
      "execution_count": 104,
      "metadata": {
        "id": "11QjVGYE4nlh"
      },
      "outputs": [],
      "source": [
        "mh = MinHashLSH(inputCol=\"features\", outputCol=\"hashes\", numHashTables=numHashTables)\n",
        "model = mh.fit(df)\n",
        "\n",
        "dist_threshold = 1.0 - sim_threshold\n",
        "pairs = model.approxSimilarityJoin(df, df, dist_threshold, distCol=\"jaccardDistance\")\n",
        "if join_limit:\n",
        "    pairs = pairs.limit(join_limit)"
      ]
    },
    {
      "cell_type": "code",
      "execution_count": 105,
      "metadata": {
        "id": "aVYjUaoA4x0O"
      },
      "outputs": [],
      "source": [
        "jaccard_results = pairs \\\n",
        "    .filter(col(\"datasetA.id\") < col(\"datasetB.id\")) \\\n",
        "    .withColumn(\"jaccardSimilarity\", 1 - col(\"jaccardDistance\")) \\\n",
        "    .filter(col(\"jaccardSimilarity\") <= duplicate_threshold) \\\n",
        "    .select(\n",
        "        col(\"datasetA.id\").alias(\"id1\"),\n",
        "        col(\"datasetB.id\").alias(\"id2\"),\n",
        "        col(\"datasetA.review_text\").alias(\"review1\"),\n",
        "        col(\"datasetB.review_text\").alias(\"review2\"),\n",
        "        col(\"datasetA.rating\").alias(\"rating1\"),\n",
        "        col(\"datasetB.rating\").alias(\"rating2\"),\n",
        "        col(\"jaccardSimilarity\")\n",
        "    )"
      ]
    },
    {
      "cell_type": "markdown",
      "metadata": {
        "id": "QvGVXOCUKK5z"
      },
      "source": [
        "# 7. TF-IDF & COSINE"
      ]
    },
    {
      "cell_type": "code",
      "execution_count": 119,
      "metadata": {
        "id": "zHthDSWVv8V-"
      },
      "outputs": [],
      "source": [
        "tokenizer = Tokenizer(inputCol=\"cleaned\", outputCol=\"words\")\n",
        "remover = StopWordsRemover(inputCol=\"words\", outputCol=\"filtered\")\n",
        "cv = CountVectorizer(inputCol=\"filtered\", outputCol=\"rawFeatures\")\n",
        "idf = IDF(inputCol=\"rawFeatures\", outputCol=\"tfidfFeatures\")"
      ]
    },
    {
      "cell_type": "code",
      "execution_count": 120,
      "metadata": {
        "id": "1q7VPeFnwCQe"
      },
      "outputs": [],
      "source": [
        "pipeline = Pipeline(stages=[tokenizer, remover, cv, idf])\n",
        "tfidf_model = pipeline.fit(df)\n",
        "df_tfidf = tfidf_model.transform(df)\n",
        "cosine_udf = udf(lambda v1, v2: float(v1.dot(v2)/(Vectors.norm(v1,2)*Vectors.norm(v2,2))), \"double\")"
      ]
    },
    {
      "cell_type": "code",
      "execution_count": 124,
      "metadata": {
        "id": "a7NN5xah4_CS"
      },
      "outputs": [],
      "source": [
        "df1 = df_tfidf.select(col(\"id\").alias(\"id1\"), col(\"tfidfFeatures\").alias(\"v1\"))\n",
        "df2 = df_tfidf.select(col(\"id\").alias(\"id2\"), col(\"tfidfFeatures\").alias(\"v2\"))\n",
        "jacc_pairs = jaccard_results.select(\"id1\",\"id2\")\n",
        "df1_sub = df1.join(jacc_pairs, on=\"id1\")\n",
        "joined = df1_sub.join(df2, on=\"id2\")"
      ]
    },
    {
      "cell_type": "code",
      "execution_count": 125,
      "metadata": {
        "id": "jBB_0KOe5Blz"
      },
      "outputs": [],
      "source": [
        "final_results = joined.withColumn(\"cosine_similarity\", cosine_udf(col(\"v1\"), col(\"v2\"))) \\\n",
        "    .filter(col(\"cosine_similarity\") >= semantic_threshold) \\\n",
        "    .filter(col(\"cosine_similarity\") <= duplicate_threshold)\n",
        "\n",
        "merged_results = final_results \\\n",
        "    .join(jaccard_results.select(\"id1\", \"id2\", \"review1\", \"review2\", \"jaccardSimilarity\"), on=[\"id1\", \"id2\"], how=\"inner\") \\\n",
        "    .select(\"id1\", \"id2\", \"review1\", \"review2\", \"jaccardSimilarity\", \"cosine_similarity\")"
      ]
    },
    {
      "cell_type": "markdown",
      "metadata": {
        "id": "yIsFCZ3A5L86"
      },
      "source": [
        "# 8. RESULTS PREVIEW AND EXPORT"
      ]
    },
    {
      "cell_type": "code",
      "source": [
        "print(\"Coppie totali generate da LSH (prima del filtro):\", pairs.count())"
      ],
      "metadata": {
        "colab": {
          "base_uri": "https://localhost:8080/"
        },
        "id": "KWMNw0FlHqX1",
        "outputId": "78a5252c-0e28-4b64-f0ee-fe05fa3df4aa"
      },
      "execution_count": 112,
      "outputs": [
        {
          "output_type": "stream",
          "name": "stdout",
          "text": [
            "Coppie totali generate da LSH (prima del filtro): 1018\n"
          ]
        }
      ]
    },
    {
      "cell_type": "code",
      "source": [
        "print(\"Totale coppie trovate da LSH (prima del filtro Cosine):\", jaccard_results.count())"
      ],
      "metadata": {
        "colab": {
          "base_uri": "https://localhost:8080/"
        },
        "id": "VEwUqMhjEz7P",
        "outputId": "89adb6ea-3474-40ff-b10f-9453970ec3fe"
      },
      "execution_count": 111,
      "outputs": [
        {
          "output_type": "stream",
          "name": "stdout",
          "text": [
            "Totale coppie trovate da LSH (prima del filtro Cosine): 8\n"
          ]
        }
      ]
    },
    {
      "cell_type": "code",
      "execution_count": 110,
      "metadata": {
        "colab": {
          "base_uri": "https://localhost:8080/"
        },
        "id": "yK-Ogs265Lju",
        "outputId": "38fa28ae-bfb3-4d51-a3b5-13934606b910"
      },
      "outputs": [
        {
          "output_type": "stream",
          "name": "stdout",
          "text": [
            "+---+---+------------------------------------------------------------------------------------------------------------------------------+------------------------------------------------------------------------------------------------------------------------+-------+-------+-------------------+\n",
            "|id1|id2|review1                                                                                                                       |review2                                                                                                                 |rating1|rating2|jaccardSimilarity  |\n",
            "+---+---+------------------------------------------------------------------------------------------------------------------------------+------------------------------------------------------------------------------------------------------------------------+-------+-------+-------------------+\n",
            "|808|871|I received the book in a timely manner and in the condition described, thank you.                                             |The book came in great condition and in a timely manner. It was a pleasure doing business with this seller on Amazon.com|5.0    |4.0    |0.20645161290322578|\n",
            "|808|896|I received the book in a timely manner and in the condition described, thank you.                                             |book came in a timely manner and in perfect condition, the cover looks good and the pages are still crisp. Thanks!      |5.0    |5.0    |0.27142857142857135|\n",
            "|173|182|Like before...I am pleased to say your product was sent in a timely fashion and in very good condition. Good job...keep it up!|The book was in very good condition for an older version and it arrived in a timely manner.                             |5.0    |5.0    |0.2222222222222222 |\n",
            "|182|871|The book was in very good condition for an older version and it arrived in a timely manner.                                   |The book came in great condition and in a timely manner. It was a pleasure doing business with this seller on Amazon.com|5.0    |4.0    |0.20481927710843373|\n",
            "|182|709|The book was in very good condition for an older version and it arrived in a timely manner.                                   |The book was delivered in good condition and in a timely fashion. I am very pleased with your services.                 |5.0    |5.0    |0.2727272727272727 |\n",
            "|173|709|Like before...I am pleased to say your product was sent in a timely fashion and in very good condition. Good job...keep it up!|The book was delivered in good condition and in a timely fashion. I am very pleased with your services.                 |5.0    |5.0    |0.30000000000000004|\n",
            "|871|896|The book came in great condition and in a timely manner. It was a pleasure doing business with this seller on Amazon.com      |book came in a timely manner and in perfect condition, the cover looks good and the pages are still crisp. Thanks!      |4.0    |5.0    |0.20329670329670324|\n",
            "|182|808|The book was in very good condition for an older version and it arrived in a timely manner.                                   |I received the book in a timely manner and in the condition described, thank you.                                       |5.0    |5.0    |0.2421875          |\n",
            "+---+---+------------------------------------------------------------------------------------------------------------------------------+------------------------------------------------------------------------------------------------------------------------+-------+-------+-------------------+\n",
            "\n"
          ]
        }
      ],
      "source": [
        "jaccard_results.show(truncate=False)"
      ]
    },
    {
      "cell_type": "code",
      "source": [
        "jaccard_results_pd = jaccard_results.toPandas()\n",
        "jaccard_results_pd.to_html(\"jaccard_results.html\", index=False)\n",
        "files.download(\"jaccard_results.html\")"
      ],
      "metadata": {
        "colab": {
          "base_uri": "https://localhost:8080/",
          "height": 16
        },
        "id": "uY7BkoxRIoBC",
        "outputId": "745c90ac-1eba-4a4a-aa2f-40bd4b830f9a"
      },
      "execution_count": 72,
      "outputs": [
        {
          "output_type": "display_data",
          "data": {
            "text/plain": [
              "<IPython.core.display.Javascript object>"
            ],
            "application/javascript": [
              "\n",
              "    async function download(id, filename, size) {\n",
              "      if (!google.colab.kernel.accessAllowed) {\n",
              "        return;\n",
              "      }\n",
              "      const div = document.createElement('div');\n",
              "      const label = document.createElement('label');\n",
              "      label.textContent = `Downloading \"${filename}\": `;\n",
              "      div.appendChild(label);\n",
              "      const progress = document.createElement('progress');\n",
              "      progress.max = size;\n",
              "      div.appendChild(progress);\n",
              "      document.body.appendChild(div);\n",
              "\n",
              "      const buffers = [];\n",
              "      let downloaded = 0;\n",
              "\n",
              "      const channel = await google.colab.kernel.comms.open(id);\n",
              "      // Send a message to notify the kernel that we're ready.\n",
              "      channel.send({})\n",
              "\n",
              "      for await (const message of channel.messages) {\n",
              "        // Send a message to notify the kernel that we're ready.\n",
              "        channel.send({})\n",
              "        if (message.buffers) {\n",
              "          for (const buffer of message.buffers) {\n",
              "            buffers.push(buffer);\n",
              "            downloaded += buffer.byteLength;\n",
              "            progress.value = downloaded;\n",
              "          }\n",
              "        }\n",
              "      }\n",
              "      const blob = new Blob(buffers, {type: 'application/binary'});\n",
              "      const a = document.createElement('a');\n",
              "      a.href = window.URL.createObjectURL(blob);\n",
              "      a.download = filename;\n",
              "      div.appendChild(a);\n",
              "      a.click();\n",
              "      div.remove();\n",
              "    }\n",
              "  "
            ]
          },
          "metadata": {}
        },
        {
          "output_type": "display_data",
          "data": {
            "text/plain": [
              "<IPython.core.display.Javascript object>"
            ],
            "application/javascript": [
              "download(\"download_48820f09-02e1-4dba-9344-611597525408\", \"jaccard_results.html\", 3157)"
            ]
          },
          "metadata": {}
        }
      ]
    },
    {
      "cell_type": "code",
      "source": [
        "merged_results.show(truncate=False)"
      ],
      "metadata": {
        "colab": {
          "base_uri": "https://localhost:8080/"
        },
        "id": "7N2sDWJfcF7A",
        "outputId": "76c170e4-37ba-40ff-c855-012cbd7e47dc"
      },
      "execution_count": 127,
      "outputs": [
        {
          "output_type": "stream",
          "name": "stdout",
          "text": [
            "+---+---+------------------------------------------------------------------------------------------------------------------------------+------------------------------------------------------------------------------------------------------------------------+-------------------+-------------------+\n",
            "|id1|id2|review1                                                                                                                       |review2                                                                                                                 |jaccardSimilarity  |cosine_similarity  |\n",
            "+---+---+------------------------------------------------------------------------------------------------------------------------------+------------------------------------------------------------------------------------------------------------------------+-------------------+-------------------+\n",
            "|173|709|Like before...I am pleased to say your product was sent in a timely fashion and in very good condition. Good job...keep it up!|The book was delivered in good condition and in a timely fashion. I am very pleased with your services.                 |0.30000000000000004|0.47740622113638803|\n",
            "|182|808|The book was in very good condition for an older version and it arrived in a timely manner.                                   |I received the book in a timely manner and in the condition described, thank you.                                       |0.2421875          |0.5192270414361674 |\n",
            "|182|871|The book was in very good condition for an older version and it arrived in a timely manner.                                   |The book came in great condition and in a timely manner. It was a pleasure doing business with this seller on Amazon.com|0.20481927710843373|0.4102956466102461 |\n",
            "|808|896|I received the book in a timely manner and in the condition described, thank you.                                             |book came in a timely manner and in perfect condition, the cover looks good and the pages are still crisp. Thanks!      |0.27142857142857135|0.39755234975136094|\n",
            "|808|871|I received the book in a timely manner and in the condition described, thank you.                                             |The book came in great condition and in a timely manner. It was a pleasure doing business with this seller on Amazon.com|0.20645161290322578|0.4245416474896665 |\n",
            "|871|896|The book came in great condition and in a timely manner. It was a pleasure doing business with this seller on Amazon.com      |book came in a timely manner and in perfect condition, the cover looks good and the pages are still crisp. Thanks!      |0.20329670329670324|0.3906973370530879 |\n",
            "+---+---+------------------------------------------------------------------------------------------------------------------------------+------------------------------------------------------------------------------------------------------------------------+-------------------+-------------------+\n",
            "\n"
          ]
        }
      ]
    },
    {
      "cell_type": "code",
      "execution_count": 128,
      "metadata": {
        "id": "tBMCEecq5ROc",
        "colab": {
          "base_uri": "https://localhost:8080/",
          "height": 16
        },
        "outputId": "13f95526-3b43-4d1b-bc6d-2bf9e768e6ae"
      },
      "outputs": [
        {
          "output_type": "display_data",
          "data": {
            "text/plain": [
              "<IPython.core.display.Javascript object>"
            ],
            "application/javascript": [
              "\n",
              "    async function download(id, filename, size) {\n",
              "      if (!google.colab.kernel.accessAllowed) {\n",
              "        return;\n",
              "      }\n",
              "      const div = document.createElement('div');\n",
              "      const label = document.createElement('label');\n",
              "      label.textContent = `Downloading \"${filename}\": `;\n",
              "      div.appendChild(label);\n",
              "      const progress = document.createElement('progress');\n",
              "      progress.max = size;\n",
              "      div.appendChild(progress);\n",
              "      document.body.appendChild(div);\n",
              "\n",
              "      const buffers = [];\n",
              "      let downloaded = 0;\n",
              "\n",
              "      const channel = await google.colab.kernel.comms.open(id);\n",
              "      // Send a message to notify the kernel that we're ready.\n",
              "      channel.send({})\n",
              "\n",
              "      for await (const message of channel.messages) {\n",
              "        // Send a message to notify the kernel that we're ready.\n",
              "        channel.send({})\n",
              "        if (message.buffers) {\n",
              "          for (const buffer of message.buffers) {\n",
              "            buffers.push(buffer);\n",
              "            downloaded += buffer.byteLength;\n",
              "            progress.value = downloaded;\n",
              "          }\n",
              "        }\n",
              "      }\n",
              "      const blob = new Blob(buffers, {type: 'application/binary'});\n",
              "      const a = document.createElement('a');\n",
              "      a.href = window.URL.createObjectURL(blob);\n",
              "      a.download = filename;\n",
              "      div.appendChild(a);\n",
              "      a.click();\n",
              "      div.remove();\n",
              "    }\n",
              "  "
            ]
          },
          "metadata": {}
        },
        {
          "output_type": "display_data",
          "data": {
            "text/plain": [
              "<IPython.core.display.Javascript object>"
            ],
            "application/javascript": [
              "download(\"download_c97b15b8-944e-4fb3-9b2c-afb2f6e39820\", \"merged_results.html\", 2347)"
            ]
          },
          "metadata": {}
        }
      ],
      "source": [
        "merged_results_pd = merged_results.toPandas()\n",
        "merged_results_pd.to_html(\"merged_results.html\", index=False)\n",
        "files.download(\"merged_results.html\")"
      ]
    },
    {
      "cell_type": "markdown",
      "metadata": {
        "id": "idGxMTGAaESV"
      },
      "source": [
        "# 11. STOP SPARK SESSION"
      ]
    },
    {
      "cell_type": "code",
      "execution_count": 95,
      "metadata": {
        "id": "ClLmHBduNvFj"
      },
      "outputs": [],
      "source": [
        "spark.stop()"
      ]
    }
  ],
  "metadata": {
    "colab": {
      "provenance": [],
      "include_colab_link": true
    },
    "kernelspec": {
      "display_name": "Python 3",
      "name": "python3"
    },
    "language_info": {
      "name": "python"
    }
  },
  "nbformat": 4,
  "nbformat_minor": 0
}
